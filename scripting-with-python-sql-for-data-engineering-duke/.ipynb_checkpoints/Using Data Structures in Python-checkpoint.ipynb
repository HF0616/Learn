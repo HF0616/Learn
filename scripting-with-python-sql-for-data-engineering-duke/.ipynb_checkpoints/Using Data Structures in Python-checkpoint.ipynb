{
 "cells": [
  {
   "cell_type": "markdown",
   "id": "1dabb33f",
   "metadata": {},
   "source": [
    "# Using Lists to Save and Retrieve Data in Python"
   ]
  },
  {
   "cell_type": "code",
   "execution_count": 2,
   "id": "fa8e3543",
   "metadata": {},
   "outputs": [
    {
     "data": {
      "text/plain": [
       "['thing1', True, 10]"
      ]
     },
     "execution_count": 2,
     "metadata": {},
     "output_type": "execute_result"
    }
   ],
   "source": [
    "things=[\"thing1\",True,10]\n",
    "things"
   ]
  },
  {
   "cell_type": "code",
   "execution_count": 43,
   "id": "39bc2abb",
   "metadata": {},
   "outputs": [
    {
     "data": {
      "text/plain": [
       "3"
      ]
     },
     "execution_count": 43,
     "metadata": {},
     "output_type": "execute_result"
    }
   ],
   "source": [
    "len(things)"
   ]
  },
  {
   "cell_type": "code",
   "execution_count": 44,
   "id": "4e91cfdb",
   "metadata": {},
   "outputs": [
    {
     "data": {
      "text/plain": [
       "['thing1', True]"
      ]
     },
     "execution_count": 44,
     "metadata": {},
     "output_type": "execute_result"
    }
   ],
   "source": [
    "things.pop()\n",
    "things"
   ]
  },
  {
   "cell_type": "code",
   "execution_count": 4,
   "id": "8ace0c78",
   "metadata": {},
   "outputs": [
    {
     "data": {
      "text/plain": [
       "['scripting-with-python-sql-for-data-engineering-duke',\n",
       " 'LICENSE',\n",
       " 'README.md',\n",
       " '.git']"
      ]
     },
     "execution_count": 4,
     "metadata": {},
     "output_type": "execute_result"
    }
   ],
   "source": [
    "import os\n",
    "directories = os.listdir('/home/hf/Learning/github/Learn')\n",
    "directories"
   ]
  },
  {
   "cell_type": "code",
   "execution_count": 5,
   "id": "52df597e",
   "metadata": {},
   "outputs": [
    {
     "data": {
      "text/plain": [
       "['scripting-with-python-sql-for-data-engineering-duke',\n",
       " 'LICENSE',\n",
       " 'README.md',\n",
       " '.git',\n",
       " 'example0']"
      ]
     },
     "execution_count": 5,
     "metadata": {},
     "output_type": "execute_result"
    }
   ],
   "source": [
    "directories.append(\"example0\")\n",
    "directories"
   ]
  },
  {
   "cell_type": "code",
   "execution_count": 7,
   "id": "32715f0c",
   "metadata": {},
   "outputs": [
    {
     "data": {
      "text/plain": [
       "['example1',\n",
       " 'example1',\n",
       " 'scripting-with-python-sql-for-data-engineering-duke',\n",
       " 'LICENSE',\n",
       " 'README.md',\n",
       " '.git',\n",
       " 'example0']"
      ]
     },
     "execution_count": 7,
     "metadata": {},
     "output_type": "execute_result"
    }
   ],
   "source": [
    "directories.insert(0,\"example1\")\n",
    "directories"
   ]
  },
  {
   "cell_type": "code",
   "execution_count": 8,
   "id": "7f4d94e0",
   "metadata": {},
   "outputs": [
    {
     "data": {
      "text/plain": [
       "'example1'"
      ]
     },
     "execution_count": 8,
     "metadata": {},
     "output_type": "execute_result"
    }
   ],
   "source": [
    "directories[0]"
   ]
  },
  {
   "cell_type": "code",
   "execution_count": 10,
   "id": "1dac110d",
   "metadata": {},
   "outputs": [
    {
     "data": {
      "text/plain": [
       "'example0'"
      ]
     },
     "execution_count": 10,
     "metadata": {},
     "output_type": "execute_result"
    }
   ],
   "source": [
    "directories[-1]"
   ]
  },
  {
   "cell_type": "code",
   "execution_count": 11,
   "id": "6b2fa046",
   "metadata": {},
   "outputs": [
    {
     "data": {
      "text/plain": [
       "0"
      ]
     },
     "execution_count": 11,
     "metadata": {},
     "output_type": "execute_result"
    }
   ],
   "source": [
    "directories.index(\"example1\")"
   ]
  },
  {
   "cell_type": "code",
   "execution_count": 45,
   "id": "4b79d6cc",
   "metadata": {},
   "outputs": [
    {
     "ename": "ValueError",
     "evalue": "'non-existent' is not in list",
     "output_type": "error",
     "traceback": [
      "\u001b[0;31m---------------------------------------------------------------------------\u001b[0m",
      "\u001b[0;31mValueError\u001b[0m                                Traceback (most recent call last)",
      "Cell \u001b[0;32mIn[45], line 1\u001b[0m\n\u001b[0;32m----> 1\u001b[0m \u001b[43mdirectories\u001b[49m\u001b[38;5;241;43m.\u001b[39;49m\u001b[43mindex\u001b[49m\u001b[43m(\u001b[49m\u001b[38;5;124;43m\"\u001b[39;49m\u001b[38;5;124;43mnon-existent\u001b[39;49m\u001b[38;5;124;43m\"\u001b[39;49m\u001b[43m)\u001b[49m\n",
      "\u001b[0;31mValueError\u001b[0m: 'non-existent' is not in list"
     ]
    }
   ],
   "source": [
    "directories.index(\"non-existent\")"
   ]
  },
  {
   "cell_type": "markdown",
   "id": "7ea71a21",
   "metadata": {},
   "source": [
    "使用列表中的数字"
   ]
  },
  {
   "cell_type": "code",
   "execution_count": 46,
   "id": "a11dc47f",
   "metadata": {},
   "outputs": [],
   "source": [
    "gravity_on_earth=1.0\n",
    "gravity_on_the_moon=0.166\n",
    "\n",
    "gravity_on_planets=[0.378,0.907,1,0.377,2.36,0.916,0.889,1,12]"
   ]
  },
  {
   "cell_type": "code",
   "execution_count": 47,
   "id": "91c0eb72",
   "metadata": {},
   "outputs": [],
   "source": [
    "bus_weight=124054"
   ]
  },
  {
   "cell_type": "code",
   "execution_count": 48,
   "id": "a9f9467b",
   "metadata": {},
   "outputs": [
    {
     "data": {
      "text/plain": [
       "124054"
      ]
     },
     "execution_count": 48,
     "metadata": {},
     "output_type": "execute_result"
    }
   ],
   "source": [
    "bus_weight"
   ]
  },
  {
   "cell_type": "code",
   "execution_count": 49,
   "id": "4228d8a0",
   "metadata": {},
   "outputs": [
    {
     "data": {
      "text/plain": [
       "46892.412000000004"
      ]
     },
     "execution_count": 49,
     "metadata": {},
     "output_type": "execute_result"
    }
   ],
   "source": [
    "bus_weight*gravity_on_planets[0]"
   ]
  },
  {
   "cell_type": "code",
   "execution_count": 50,
   "id": "d5caa62d",
   "metadata": {},
   "outputs": [
    {
     "data": {
      "text/plain": [
       "46768.358"
      ]
     },
     "execution_count": 50,
     "metadata": {},
     "output_type": "execute_result"
    }
   ],
   "source": [
    "bus_weight*min(gravity_on_planets)"
   ]
  },
  {
   "cell_type": "code",
   "execution_count": 51,
   "id": "4250405f",
   "metadata": {},
   "outputs": [
    {
     "data": {
      "text/plain": [
       "1488648"
      ]
     },
     "execution_count": 51,
     "metadata": {},
     "output_type": "execute_result"
    }
   ],
   "source": [
    "bus_weight*max(gravity_on_planets)"
   ]
  },
  {
   "cell_type": "markdown",
   "id": "2376a6e9",
   "metadata": {},
   "source": [
    "操作列表数据"
   ]
  },
  {
   "cell_type": "code",
   "execution_count": 52,
   "id": "e0828dee",
   "metadata": {},
   "outputs": [],
   "source": [
    "list1=[\"item1\",\"item2\",\"item3\"]\n",
    "list2=[\"item4\",\"item5\",\"item6\",\"item7\"]"
   ]
  },
  {
   "cell_type": "code",
   "execution_count": 53,
   "id": "9425b7c7",
   "metadata": {},
   "outputs": [
    {
     "data": {
      "text/plain": [
       "['item4', 'item5']"
      ]
     },
     "execution_count": 53,
     "metadata": {},
     "output_type": "execute_result"
    }
   ],
   "source": [
    "list2[:2]"
   ]
  },
  {
   "cell_type": "code",
   "execution_count": 55,
   "id": "fc16606c",
   "metadata": {},
   "outputs": [
    {
     "data": {
      "text/plain": [
       "['item1', 'item2', 'item3', 'item4', 'item5', 'item6', 'item7']"
      ]
     },
     "execution_count": 55,
     "metadata": {},
     "output_type": "execute_result"
    }
   ],
   "source": [
    "newlist=list1+list2\n",
    "newlist"
   ]
  },
  {
   "cell_type": "markdown",
   "id": "b465f6ff",
   "metadata": {},
   "source": [
    "对列表进行排序"
   ]
  },
  {
   "cell_type": "code",
   "execution_count": 57,
   "id": "bf140acd",
   "metadata": {},
   "outputs": [
    {
     "data": {
      "text/plain": [
       "['item1', 'item2', 'item3', 'item4', 'item5', 'item6', 'item7']"
      ]
     },
     "execution_count": 57,
     "metadata": {},
     "output_type": "execute_result"
    }
   ],
   "source": [
    "newlist.sort()\n",
    "newlist"
   ]
  },
  {
   "cell_type": "code",
   "execution_count": 59,
   "id": "c7438f9a",
   "metadata": {},
   "outputs": [
    {
     "data": {
      "text/plain": [
       "['item7', 'item6', 'item5', 'item4', 'item3', 'item2', 'item1']"
      ]
     },
     "execution_count": 59,
     "metadata": {},
     "output_type": "execute_result"
    }
   ],
   "source": [
    "newlist.sort(reverse=True)\n",
    "newlist"
   ]
  },
  {
   "cell_type": "markdown",
   "id": "61676906",
   "metadata": {},
   "source": [
    "# Using Dictionaries to Save and Retrieve Data in Python"
   ]
  },
  {
   "cell_type": "code",
   "execution_count": 21,
   "id": "4ad6a592",
   "metadata": {},
   "outputs": [
    {
     "data": {
      "text/plain": [
       "{'name': 'Aifredo', 'lastname': 'Deza'}"
      ]
     },
     "execution_count": 21,
     "metadata": {},
     "output_type": "execute_result"
    }
   ],
   "source": [
    "contacts = {\"name\":\"Aifredo\",\"lastname\":\"Deza\"}\n",
    "contacts"
   ]
  },
  {
   "cell_type": "code",
   "execution_count": 22,
   "id": "248ddba1",
   "metadata": {},
   "outputs": [
    {
     "data": {
      "text/plain": [
       "'Aifredo'"
      ]
     },
     "execution_count": 22,
     "metadata": {},
     "output_type": "execute_result"
    }
   ],
   "source": [
    "contacts[\"name\"]"
   ]
  },
  {
   "cell_type": "code",
   "execution_count": 23,
   "id": "15b7372d",
   "metadata": {},
   "outputs": [
    {
     "data": {
      "text/plain": [
       "'Deza'"
      ]
     },
     "execution_count": 23,
     "metadata": {},
     "output_type": "execute_result"
    }
   ],
   "source": [
    "contacts['lastname']"
   ]
  },
  {
   "cell_type": "code",
   "execution_count": 24,
   "id": "fb16138f",
   "metadata": {},
   "outputs": [
    {
     "ename": "KeyError",
     "evalue": "'Phone'",
     "output_type": "error",
     "traceback": [
      "\u001b[0;31m---------------------------------------------------------------------------\u001b[0m",
      "\u001b[0;31mKeyError\u001b[0m                                  Traceback (most recent call last)",
      "Cell \u001b[0;32mIn[24], line 1\u001b[0m\n\u001b[0;32m----> 1\u001b[0m \u001b[43mcontacts\u001b[49m\u001b[43m[\u001b[49m\u001b[38;5;124;43m\"\u001b[39;49m\u001b[38;5;124;43mPhone\u001b[39;49m\u001b[38;5;124;43m\"\u001b[39;49m\u001b[43m]\u001b[49m\n",
      "\u001b[0;31mKeyError\u001b[0m: 'Phone'"
     ]
    }
   ],
   "source": [
    "contacts[\"Phone\"]"
   ]
  },
  {
   "cell_type": "code",
   "execution_count": 27,
   "id": "95d72e13",
   "metadata": {},
   "outputs": [
    {
     "data": {
      "text/plain": [
       "'Unkown'"
      ]
     },
     "execution_count": 27,
     "metadata": {},
     "output_type": "execute_result"
    }
   ],
   "source": [
    "contacts.get(\"Phone\",\"Unkown\")"
   ]
  },
  {
   "cell_type": "code",
   "execution_count": 28,
   "id": "f4acf345",
   "metadata": {},
   "outputs": [
    {
     "data": {
      "text/plain": [
       "dict_keys(['name', 'lastname'])"
      ]
     },
     "execution_count": 28,
     "metadata": {},
     "output_type": "execute_result"
    }
   ],
   "source": [
    "contacts.keys()"
   ]
  },
  {
   "cell_type": "code",
   "execution_count": 29,
   "id": "a44bf878",
   "metadata": {},
   "outputs": [
    {
     "data": {
      "text/plain": [
       "dict_values(['Aifredo', 'Deza'])"
      ]
     },
     "execution_count": 29,
     "metadata": {},
     "output_type": "execute_result"
    }
   ],
   "source": [
    "contacts.values()"
   ]
  },
  {
   "cell_type": "code",
   "execution_count": 30,
   "id": "4ae2a956",
   "metadata": {},
   "outputs": [],
   "source": [
    "contacts[\"Phone\"]=\"122-45-789\""
   ]
  },
  {
   "cell_type": "code",
   "execution_count": 31,
   "id": "ce40fdb6",
   "metadata": {},
   "outputs": [
    {
     "data": {
      "text/plain": [
       "{'name': 'Aifredo', 'lastname': 'Deza', 'Phone': '122-45-789'}"
      ]
     },
     "execution_count": 31,
     "metadata": {},
     "output_type": "execute_result"
    }
   ],
   "source": [
    "contacts"
   ]
  },
  {
   "cell_type": "markdown",
   "id": "8207b22e",
   "metadata": {},
   "source": [
    "# Overview of Lesson Common Data Structures in Python"
   ]
  },
  {
   "cell_type": "markdown",
   "id": "dce6dddf",
   "metadata": {},
   "source": [
    "## 1，tuple"
   ]
  },
  {
   "cell_type": "code",
   "execution_count": 33,
   "id": "e2bf66da",
   "metadata": {},
   "outputs": [
    {
     "data": {
      "text/plain": [
       "('item1', 'item2')"
      ]
     },
     "execution_count": 33,
     "metadata": {},
     "output_type": "execute_result"
    }
   ],
   "source": [
    "read_only=(\"item1\",\"item2\")\n",
    "read_only"
   ]
  },
  {
   "cell_type": "code",
   "execution_count": 34,
   "id": "72ea0ec8",
   "metadata": {},
   "outputs": [
    {
     "data": {
      "text/plain": [
       "'item2'"
      ]
     },
     "execution_count": 34,
     "metadata": {},
     "output_type": "execute_result"
    }
   ],
   "source": [
    "read_only[1]"
   ]
  },
  {
   "cell_type": "code",
   "execution_count": 35,
   "id": "89a21d90",
   "metadata": {},
   "outputs": [
    {
     "ename": "AttributeError",
     "evalue": "'tuple' object has no attribute 'append'",
     "output_type": "error",
     "traceback": [
      "\u001b[0;31m---------------------------------------------------------------------------\u001b[0m",
      "\u001b[0;31mAttributeError\u001b[0m                            Traceback (most recent call last)",
      "Cell \u001b[0;32mIn[35], line 1\u001b[0m\n\u001b[0;32m----> 1\u001b[0m \u001b[43mread_only\u001b[49m\u001b[38;5;241;43m.\u001b[39;49m\u001b[43mappend\u001b[49m(\u001b[38;5;124m\"\u001b[39m\u001b[38;5;124mitem3\u001b[39m\u001b[38;5;124m\"\u001b[39m)\n",
      "\u001b[0;31mAttributeError\u001b[0m: 'tuple' object has no attribute 'append'"
     ]
    }
   ],
   "source": [
    "read_only.append(\"item3\")"
   ]
  },
  {
   "cell_type": "markdown",
   "id": "00595513",
   "metadata": {},
   "source": [
    "## 2，Set"
   ]
  },
  {
   "cell_type": "code",
   "execution_count": 36,
   "id": "87a45535",
   "metadata": {},
   "outputs": [
    {
     "data": {
      "text/plain": [
       "set"
      ]
     },
     "execution_count": 36,
     "metadata": {},
     "output_type": "execute_result"
    }
   ],
   "source": [
    "unique={1,2,2,2,3,3,4}\n",
    "type(unique)"
   ]
  },
  {
   "cell_type": "code",
   "execution_count": 37,
   "id": "db508c5f",
   "metadata": {},
   "outputs": [
    {
     "data": {
      "text/plain": [
       "{1, 2, 3, 4}"
      ]
     },
     "execution_count": 37,
     "metadata": {},
     "output_type": "execute_result"
    }
   ],
   "source": [
    "unique"
   ]
  },
  {
   "cell_type": "code",
   "execution_count": 38,
   "id": "04f6d356",
   "metadata": {},
   "outputs": [],
   "source": [
    "unique.add(1)"
   ]
  },
  {
   "cell_type": "code",
   "execution_count": 39,
   "id": "2c1ace15",
   "metadata": {},
   "outputs": [],
   "source": [
    "unique.add(5)"
   ]
  },
  {
   "cell_type": "code",
   "execution_count": 40,
   "id": "31c7f173",
   "metadata": {},
   "outputs": [
    {
     "data": {
      "text/plain": [
       "{1, 2, 3, 4, 5}"
      ]
     },
     "execution_count": 40,
     "metadata": {},
     "output_type": "execute_result"
    }
   ],
   "source": [
    "unique"
   ]
  },
  {
   "cell_type": "code",
   "execution_count": 42,
   "id": "4d2365e8",
   "metadata": {},
   "outputs": [
    {
     "data": {
      "text/plain": [
       "set()"
      ]
     },
     "execution_count": 42,
     "metadata": {},
     "output_type": "execute_result"
    }
   ],
   "source": [
    "unique=set()\n",
    "unique"
   ]
  },
  {
   "cell_type": "code",
   "execution_count": null,
   "id": "3c95066d",
   "metadata": {},
   "outputs": [],
   "source": []
  }
 ],
 "metadata": {
  "kernelspec": {
   "display_name": "Python 3 (ipykernel)",
   "language": "python",
   "name": "python3"
  },
  "language_info": {
   "codemirror_mode": {
    "name": "ipython",
    "version": 3
   },
   "file_extension": ".py",
   "mimetype": "text/x-python",
   "name": "python",
   "nbconvert_exporter": "python",
   "pygments_lexer": "ipython3",
   "version": "3.10.12"
  }
 },
 "nbformat": 4,
 "nbformat_minor": 5
}
